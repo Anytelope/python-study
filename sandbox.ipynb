{
 "cells": [
  {
   "cell_type": "markdown",
   "id": "438c63bb",
   "metadata": {},
   "source": [
    "# Первая программа"
   ]
  },
  {
   "cell_type": "markdown",
   "id": "bd191d8b",
   "metadata": {},
   "source": [
    "## Something"
   ]
  },
  {
   "cell_type": "code",
   "execution_count": 1,
   "id": "1d71b247",
   "metadata": {
    "ExecuteTime": {
     "end_time": "2023-03-03T18:20:00.716516Z",
     "start_time": "2023-03-03T18:20:00.690033Z"
    }
   },
   "outputs": [
    {
     "data": {
      "text/plain": [
       "'meuw'"
      ]
     },
     "execution_count": 1,
     "metadata": {},
     "output_type": "execute_result"
    }
   ],
   "source": [
    "'meuw'"
   ]
  },
  {
   "cell_type": "code",
   "execution_count": 3,
   "id": "857d0643",
   "metadata": {
    "ExecuteTime": {
     "end_time": "2023-03-03T18:21:16.487542Z",
     "start_time": "2023-03-03T18:21:16.476907Z"
    }
   },
   "outputs": [
    {
     "data": {
      "text/plain": [
       "'meuw wuv'"
      ]
     },
     "execution_count": 3,
     "metadata": {},
     "output_type": "execute_result"
    }
   ],
   "source": [
    "a = 'meuw'\n",
    "b = 'wuv'\n",
    "a + ' ' + b"
   ]
  },
  {
   "cell_type": "code",
   "execution_count": 4,
   "id": "eb19e5e0",
   "metadata": {
    "ExecuteTime": {
     "end_time": "2023-03-03T18:22:41.119097Z",
     "start_time": "2023-03-03T18:22:41.108697Z"
    }
   },
   "outputs": [],
   "source": [
    "def sample(a, b):\n",
    "    return a * b + b + a ** 2"
   ]
  },
  {
   "cell_type": "code",
   "execution_count": 5,
   "id": "3723173f",
   "metadata": {
    "ExecuteTime": {
     "end_time": "2023-03-03T18:22:56.799626Z",
     "start_time": "2023-03-03T18:22:56.786129Z"
    }
   },
   "outputs": [
    {
     "data": {
      "text/plain": [
       "13"
      ]
     },
     "execution_count": 5,
     "metadata": {},
     "output_type": "execute_result"
    }
   ],
   "source": [
    "sample(2, 3)"
   ]
  },
  {
   "cell_type": "code",
   "execution_count": 6,
   "id": "e1f9df19",
   "metadata": {
    "ExecuteTime": {
     "end_time": "2023-03-03T18:23:10.712974Z",
     "start_time": "2023-03-03T18:23:10.700294Z"
    }
   },
   "outputs": [
    {
     "data": {
      "text/plain": [
       "175"
      ]
     },
     "execution_count": 6,
     "metadata": {},
     "output_type": "execute_result"
    }
   ],
   "source": [
    "sample(5, 25)"
   ]
  },
  {
   "cell_type": "code",
   "execution_count": 9,
   "id": "cc3df609",
   "metadata": {
    "ExecuteTime": {
     "end_time": "2023-03-03T18:25:16.760244Z",
     "start_time": "2023-03-03T18:25:16.751628Z"
    }
   },
   "outputs": [],
   "source": [
    "def hello():\n",
    "    return 'Hello, world!'"
   ]
  },
  {
   "cell_type": "code",
   "execution_count": 10,
   "id": "5935f746",
   "metadata": {
    "ExecuteTime": {
     "end_time": "2023-03-03T18:25:20.355740Z",
     "start_time": "2023-03-03T18:25:20.341990Z"
    }
   },
   "outputs": [
    {
     "data": {
      "text/plain": [
       "'Hello, world!'"
      ]
     },
     "execution_count": 10,
     "metadata": {},
     "output_type": "execute_result"
    }
   ],
   "source": [
    "hello()"
   ]
  },
  {
   "cell_type": "code",
   "execution_count": 11,
   "id": "5072a418",
   "metadata": {
    "ExecuteTime": {
     "end_time": "2023-03-03T18:34:45.835323Z",
     "start_time": "2023-03-03T18:34:45.829280Z"
    }
   },
   "outputs": [],
   "source": [
    "EXPECTED_BAKE_TIME = 40"
   ]
  },
  {
   "cell_type": "code",
   "execution_count": 12,
   "id": "28514e8c",
   "metadata": {
    "ExecuteTime": {
     "end_time": "2023-03-03T18:37:55.414266Z",
     "start_time": "2023-03-03T18:37:55.404372Z"
    }
   },
   "outputs": [],
   "source": [
    "def bake_time_remaining(current_time):\n",
    "    return EXPECTED_BAKE_TIME - current_time"
   ]
  },
  {
   "cell_type": "code",
   "execution_count": 13,
   "id": "daea1bec",
   "metadata": {
    "ExecuteTime": {
     "end_time": "2023-03-03T18:38:27.925487Z",
     "start_time": "2023-03-03T18:38:27.913834Z"
    }
   },
   "outputs": [
    {
     "data": {
      "text/plain": [
       "35"
      ]
     },
     "execution_count": 13,
     "metadata": {},
     "output_type": "execute_result"
    }
   ],
   "source": [
    "bake_time_remaining(5)"
   ]
  },
  {
   "cell_type": "code",
   "execution_count": null,
   "id": "a42f8973",
   "metadata": {},
   "outputs": [],
   "source": []
  }
 ],
 "metadata": {
  "kernelspec": {
   "display_name": "Python 3 (ipykernel)",
   "language": "python",
   "name": "python3"
  },
  "language_info": {
   "codemirror_mode": {
    "name": "ipython",
    "version": 3
   },
   "file_extension": ".py",
   "mimetype": "text/x-python",
   "name": "python",
   "nbconvert_exporter": "python",
   "pygments_lexer": "ipython3",
   "version": "3.9.13"
  },
  "toc": {
   "base_numbering": 1,
   "nav_menu": {},
   "number_sections": true,
   "sideBar": true,
   "skip_h1_title": false,
   "title_cell": "Table of Contents",
   "title_sidebar": "Contents",
   "toc_cell": false,
   "toc_position": {},
   "toc_section_display": true,
   "toc_window_display": false
  }
 },
 "nbformat": 4,
 "nbformat_minor": 5
}
